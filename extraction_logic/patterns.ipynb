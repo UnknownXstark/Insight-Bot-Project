{
 "cells": [
  {
   "cell_type": "code",
   "execution_count": 6,
   "id": "335dc5a8-8a7b-4e46-b905-5d9c286f3e68",
   "metadata": {},
   "outputs": [
    {
     "name": "stdout",
     "output_type": "stream",
     "text": [
      "Extracted Title: A homeless youth asked a stranger for food. The man responded with a question that changed the kid’s life forever\n",
      "Extracted Body Snippet: The man was alone and smartly dressed in a button-down shirt, khaki pants and professorial eyeglasses. He sauntered through the food stalls, oblivious to Mutabazi getting closer with each step. This g...\n"
     ]
    }
   ],
   "source": [
    "import requests\n",
    "from bs4 import BeautifulSoup\n",
    "\n",
    "url = \"https://edition.cnn.com/2025/09/14/us/peter-mutabazi-masiko-foster-dad-cec\" \n",
    "headers = {'User-Agent': 'Mozilla/5.0 (Windows NT 10.0; Win64; x64) AppleWebKit/537.36 (KHTML, like Gecko) Chrome/91.0.4472.124 Safari/537.36'}\n",
    "try:\n",
    "    response = requests.get(url, headers=headers, timeout=10)\n",
    "    response.encoding = 'utf-8'\n",
    "    soup = BeautifulSoup(response.text, 'lxml')\n",
    "\n",
    "    headings = soup.find_all(['h1', 'h2'])\n",
    "    title_candidates = [(h.text.strip(), len(h.text.strip())) for h in headings if h.text.strip()]\n",
    "    longest_title = max(title_candidates, key=lambda x: x[1])[0] if title_candidates else \"No title found\"\n",
    "    print(\"Extracted Title:\", longest_title)\n",
    "\n",
    "    paragraphs = soup.find_all('p')\n",
    "    body_candidates = [p.text.strip() for p in paragraphs if len(p.text.strip()) > 100]\n",
    "    article_body = ' '.join(body_candidates[:5]) if body_candidates else \"No body found\"  # Limit to 5 paragraphs\n",
    "    print(\"Extracted Body Snippet:\", article_body[:200] + \"...\" if article_body else article_body)\n",
    "\n",
    "except requests.RequestException as e:\n",
    "    print(\"Error fetching URL:\", e)"
   ]
  },
  {
   "cell_type": "code",
   "execution_count": 10,
   "id": "f4e02c26",
   "metadata": {},
   "outputs": [
    {
     "name": "stdout",
     "output_type": "stream",
     "text": [
      "HTML Length: 3803284\n",
      "Extracted Title: A homeless youth asked a stranger for food. The man responded with a question that changed the kid’s life forever\n",
      "Extracted Body Snippet: The man was alone and smartly dressed in a button-down shirt, khaki pants and professorial eyeglasses. He sauntered through the food stalls, oblivious to Mutabazi getting closer with each step. This g...\n"
     ]
    }
   ],
   "source": [
    "import requests\n",
    "from bs4 import BeautifulSoup\n",
    "import re\n",
    "\n",
    "site_patterns = {\n",
    "    \"edition.cnn.com\": {\"title\": \"h1.pg-headline\", \"body_container\": \"div.l-container p\"},  # Broadened for CNN\n",
    "    \"bbc.com\": {\"title\": \"h1.story-body__h1\", \"body_container\": \"div.story-body__inner p\"},\n",
    "    \"reuters.com\": {\"title\": \"h1.Headline___3sD5T\", \"body_container\": \"div.StandardArticleBody_body p\"},\n",
    "    \"aljazeera.net\": {\"title\": \"h1.post-title\", \"body_container\": \"div.article-p-wrapper p\"},\n",
    "    \"rbc.ru\": {\"title\": \"h1.article__header\", \"body_container\": \"div.article__text p\"}\n",
    "}\n",
    "\n",
    "url = \"https://edition.cnn.com/2025/09/14/us/peter-mutabazi-masiko-foster-dad-cec\"  # Update for each site\n",
    "response = requests.get(url)\n",
    "response.encoding = 'utf-8'\n",
    "soup = BeautifulSoup(response.text, 'lxml')\n",
    "\n",
    "print(\"HTML Length:\", len(response.text))\n",
    "\n",
    "# Extract title\n",
    "domain = url.split('/')[2] if '//' in url else url.split('/')[0]\n",
    "pattern = site_patterns.get(domain, {\"title\": \"h1\", \"body_container\": \"p\"})  # Fallback to generic\n",
    "title_tag = soup.select_one(pattern[\"title\"]) or soup.find(['h1', 'h2'])\n",
    "longest_title = title_tag.text.strip() if title_tag and title_tag.text.strip() else \"No title found\"\n",
    "print(\"Extracted Title:\", longest_title)\n",
    "\n",
    "# Extract body\n",
    "body_container = soup.select_one(pattern[\"body_container\"])\n",
    "if body_container:\n",
    "    paragraphs = body_container.find_all('p')\n",
    "    body_candidates = [p.text.strip() for p in paragraphs if len(p.text.strip()) > 100 and not re.search(r'©|All Rights Reserved|privacy|terms', p.text, re.I)]\n",
    "else:\n",
    "    paragraphs = soup.find_all('p')\n",
    "    body_candidates = [p.text.strip() for p in paragraphs if len(p.text.strip()) > 100 and not re.search(r'©|All Rights Reserved|privacy|terms', p.text, re.I)]\n",
    "article_body = ' '.join(body_candidates[:5]) if body_candidates else \"No body found\"\n",
    "print(\"Extracted Body Snippet:\", article_body[:200] + \"...\" if article_body else article_body)"
   ]
  },
  {
   "cell_type": "code",
   "execution_count": 2,
   "id": "cb6ed1bd",
   "metadata": {},
   "outputs": [
    {
     "name": "stdout",
     "output_type": "stream",
     "text": [
      "HTML Length: 519824\n",
      "Extracted Title: The Marvels of Madam C.J. Walker\n",
      "Extracted Body Snippet: No body found...\n"
     ]
    }
   ],
   "source": [
    "import requests\n",
    "from bs4 import BeautifulSoup\n",
    "\n",
    "site_patterns = {\n",
    "    \"cnn.com\": {\"title\": \"h1.pg-headline\", \"body_container\": \"div.l-container div.zn-body__paragraph\"},\n",
    "    \"bbc.com\": {\"title\": \"h1.story-body__h1\", \"body_container\": \"div.story-body__inner p\"},\n",
    "    \"reuters.com\": {\"title\": \"h1.Headline___3sD5T\", \"body_container\": \"div.StandardArticleBody_body p\"},\n",
    "    \"aljazeera.net\": {\"title\": \"h1.post-title\", \"body_container\": \"div.article-p-wrapper p\"},\n",
    "    \"rbc.ru\": {\"title\": \"h1.article__header\", \"body_container\": \"div.article__text p\"}\n",
    "}\n",
    "\n",
    "url = \"https://www.bbc.com/\"\n",
    "response = requests.get(url)\n",
    "response.encoding = 'utf-8'\n",
    "soup = BeautifulSoup(response.text, 'lxml')\n",
    "\n",
    "print(\"HTML Length:\", len(response.text))\n",
    "\n",
    "# Extract title\n",
    "domain = url.split('/')[2] if '//' in url else url.split('/')[0]\n",
    "pattern = site_patterns.get(domain, {\"title\": \"h1\", \"body_container\": \"p\"})  # Fallback to generic\n",
    "title_tag = soup.select_one(pattern[\"title\"]) or soup.find(['h1', 'h2'])\n",
    "longest_title = title_tag.text.strip() if title_tag and title_tag.text.strip() else \"No title found\"\n",
    "print(\"Extracted Title:\", longest_title)\n",
    "\n",
    "# Extract body\n",
    "body_container = soup.select_one(pattern[\"body_container\"])\n",
    "if body_container:\n",
    "    paragraphs = body_container.find_all('p')\n",
    "    body_candidates = [p.text.strip() for p in paragraphs if len(p.text.strip()) > 100 and not re.search(r'©|All Rights Reserved|privacy|terms', p.text, re.I)]\n",
    "else:\n",
    "    paragraphs = soup.find_all('p')\n",
    "    body_candidates = [p.text.strip() for p in paragraphs if len(p.text.strip()) > 100 and not re.search(r'©|All Rights Reserved|privacy|terms', p.text, re.I)]\n",
    "article_body = ' '.join(body_candidates[:5]) if body_candidates else \"No body found\"\n",
    "print(\"Extracted Body Snippet:\", article_body[:200] + \"...\" if article_body else article_body)"
   ]
  },
  {
   "cell_type": "code",
   "execution_count": 3,
   "id": "f06a5d41",
   "metadata": {},
   "outputs": [
    {
     "name": "stdout",
     "output_type": "stream",
     "text": [
      "HTML Length: 739\n",
      "Extracted Title: No title found\n",
      "Extracted Body Snippet: No body found...\n"
     ]
    }
   ],
   "source": [
    "import requests\n",
    "from bs4 import BeautifulSoup\n",
    "\n",
    "site_patterns = {\n",
    "    \"cnn.com\": {\"title\": \"h1.pg-headline\", \"body_container\": \"div.l-container div.zn-body__paragraph\"},\n",
    "    \"bbc.com\": {\"title\": \"h1.story-body__h1\", \"body_container\": \"div.story-body__inner p\"},\n",
    "    \"reuters.com\": {\"title\": \"h1.Headline___3sD5T\", \"body_container\": \"div.StandardArticleBody_body p\"},\n",
    "    \"aljazeera.net\": {\"title\": \"h1.post-title\", \"body_container\": \"div.article-p-wrapper p\"},\n",
    "    \"rbc.ru\": {\"title\": \"h1.article__header\", \"body_container\": \"div.article__text p\"}\n",
    "}\n",
    "\n",
    "url = \"https://www.reuters.com/\"\n",
    "response = requests.get(url)\n",
    "response.encoding = 'utf-8'\n",
    "soup = BeautifulSoup(response.text, 'lxml')\n",
    "\n",
    "print(\"HTML Length:\", len(response.text))\n",
    "\n",
    "# Extract title\n",
    "domain = url.split('/')[2] if '//' in url else url.split('/')[0]\n",
    "pattern = site_patterns.get(domain, {\"title\": \"h1\", \"body_container\": \"p\"})  # Fallback to generic\n",
    "title_tag = soup.select_one(pattern[\"title\"]) or soup.find(['h1', 'h2'])\n",
    "longest_title = title_tag.text.strip() if title_tag and title_tag.text.strip() else \"No title found\"\n",
    "print(\"Extracted Title:\", longest_title)\n",
    "\n",
    "# Extract body\n",
    "body_container = soup.select_one(pattern[\"body_container\"])\n",
    "if body_container:\n",
    "    paragraphs = body_container.find_all('p')\n",
    "    body_candidates = [p.text.strip() for p in paragraphs if len(p.text.strip()) > 100 and not re.search(r'©|All Rights Reserved|privacy|terms', p.text, re.I)]\n",
    "else:\n",
    "    paragraphs = soup.find_all('p')\n",
    "    body_candidates = [p.text.strip() for p in paragraphs if len(p.text.strip()) > 100 and not re.search(r'©|All Rights Reserved|privacy|terms', p.text, re.I)]\n",
    "article_body = ' '.join(body_candidates[:5]) if body_candidates else \"No body found\"\n",
    "print(\"Extracted Body Snippet:\", article_body[:200] + \"...\" if article_body else article_body)"
   ]
  },
  {
   "cell_type": "code",
   "execution_count": 4,
   "id": "6ff5c56e",
   "metadata": {},
   "outputs": [
    {
     "name": "stdout",
     "output_type": "stream",
     "text": [
      "HTML Length: 860828\n",
      "Extracted Title: للجزيرة\n",
      "Extracted Body Snippet: No body found...\n"
     ]
    }
   ],
   "source": [
    "import requests\n",
    "from bs4 import BeautifulSoup\n",
    "\n",
    "site_patterns = {\n",
    "    \"cnn.com\": {\"title\": \"h1.pg-headline\", \"body_container\": \"div.l-container div.zn-body__paragraph\"},\n",
    "    \"bbc.com\": {\"title\": \"h1.story-body__h1\", \"body_container\": \"div.story-body__inner p\"},\n",
    "    \"reuters.com\": {\"title\": \"h1.Headline___3sD5T\", \"body_container\": \"div.StandardArticleBody_body p\"},\n",
    "    \"aljazeera.net\": {\"title\": \"h1.post-title\", \"body_container\": \"div.article-p-wrapper p\"},\n",
    "    \"rbc.ru\": {\"title\": \"h1.article__header\", \"body_container\": \"div.article__text p\"}\n",
    "}\n",
    "\n",
    "url = \"https://www.aljazeera.net/\"\n",
    "response = requests.get(url)\n",
    "response.encoding = 'utf-8'\n",
    "soup = BeautifulSoup(response.text, 'lxml')\n",
    "\n",
    "print(\"HTML Length:\", len(response.text))\n",
    "\n",
    "# Extract title\n",
    "domain = url.split('/')[2] if '//' in url else url.split('/')[0]\n",
    "pattern = site_patterns.get(domain, {\"title\": \"h1\", \"body_container\": \"p\"})  # Fallback to generic\n",
    "title_tag = soup.select_one(pattern[\"title\"]) or soup.find(['h1', 'h2'])\n",
    "longest_title = title_tag.text.strip() if title_tag and title_tag.text.strip() else \"No title found\"\n",
    "print(\"Extracted Title:\", longest_title)\n",
    "\n",
    "# Extract body\n",
    "body_container = soup.select_one(pattern[\"body_container\"])\n",
    "if body_container:\n",
    "    paragraphs = body_container.find_all('p')\n",
    "    body_candidates = [p.text.strip() for p in paragraphs if len(p.text.strip()) > 100 and not re.search(r'©|All Rights Reserved|privacy|terms', p.text, re.I)]\n",
    "else:\n",
    "    paragraphs = soup.find_all('p')\n",
    "    body_candidates = [p.text.strip() for p in paragraphs if len(p.text.strip()) > 100 and not re.search(r'©|All Rights Reserved|privacy|terms', p.text, re.I)]\n",
    "article_body = ' '.join(body_candidates[:5]) if body_candidates else \"No body found\"\n",
    "print(\"Extracted Body Snippet:\", article_body[:200] + \"...\" if article_body else article_body)"
   ]
  },
  {
   "cell_type": "code",
   "execution_count": 5,
   "id": "3299c019",
   "metadata": {},
   "outputs": [
    {
     "name": "stdout",
     "output_type": "stream",
     "text": [
      "HTML Length: 200016\n",
      "Extracted Title: Новости\n",
      "Extracted Body Snippet: No body found...\n"
     ]
    }
   ],
   "source": [
    "import requests\n",
    "from bs4 import BeautifulSoup\n",
    "\n",
    "site_patterns = {\n",
    "    \"cnn.com\": {\"title\": \"h1.pg-headline\", \"body_container\": \"div.l-container div.zn-body__paragraph\"},\n",
    "    \"bbc.com\": {\"title\": \"h1.story-body__h1\", \"body_container\": \"div.story-body__inner p\"},\n",
    "    \"reuters.com\": {\"title\": \"h1.Headline___3sD5T\", \"body_container\": \"div.StandardArticleBody_body p\"},\n",
    "    \"aljazeera.net\": {\"title\": \"h1.post-title\", \"body_container\": \"div.article-p-wrapper p\"},\n",
    "    \"rbc.ru\": {\"title\": \"h1.article__header\", \"body_container\": \"div.article__text p\"}\n",
    "}\n",
    "\n",
    "url = \"https://www.rbc.ru/\"\n",
    "response = requests.get(url)\n",
    "response.encoding = 'utf-8'\n",
    "soup = BeautifulSoup(response.text, 'lxml')\n",
    "\n",
    "print(\"HTML Length:\", len(response.text))\n",
    "\n",
    "# Extract title\n",
    "domain = url.split('/')[2] if '//' in url else url.split('/')[0]\n",
    "pattern = site_patterns.get(domain, {\"title\": \"h1\", \"body_container\": \"p\"})  # Fallback to generic\n",
    "title_tag = soup.select_one(pattern[\"title\"]) or soup.find(['h1', 'h2'])\n",
    "longest_title = title_tag.text.strip() if title_tag and title_tag.text.strip() else \"No title found\"\n",
    "print(\"Extracted Title:\", longest_title)\n",
    "\n",
    "# Extract body\n",
    "body_container = soup.select_one(pattern[\"body_container\"])\n",
    "if body_container:\n",
    "    paragraphs = body_container.find_all('p')\n",
    "    body_candidates = [p.text.strip() for p in paragraphs if len(p.text.strip()) > 100 and not re.search(r'©|All Rights Reserved|privacy|terms', p.text, re.I)]\n",
    "else:\n",
    "    paragraphs = soup.find_all('p')\n",
    "    body_candidates = [p.text.strip() for p in paragraphs if len(p.text.strip()) > 100 and not re.search(r'©|All Rights Reserved|privacy|terms', p.text, re.I)]\n",
    "article_body = ' '.join(body_candidates[:5]) if body_candidates else \"No body found\"\n",
    "print(\"Extracted Body Snippet:\", article_body[:200] + \"...\" if article_body else article_body)"
   ]
  }
 ],
 "metadata": {
  "kernelspec": {
   "display_name": "Python 3",
   "language": "python",
   "name": "python3"
  },
  "language_info": {
   "codemirror_mode": {
    "name": "ipython",
    "version": 3
   },
   "file_extension": ".py",
   "mimetype": "text/x-python",
   "name": "python",
   "nbconvert_exporter": "python",
   "pygments_lexer": "ipython3",
   "version": "3.13.5"
  }
 },
 "nbformat": 4,
 "nbformat_minor": 5
}
